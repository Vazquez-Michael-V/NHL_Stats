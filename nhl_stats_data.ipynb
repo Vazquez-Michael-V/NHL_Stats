{
 "cells": [
  {
   "cell_type": "markdown",
   "id": "54444be4-2e1d-4547-a2ed-f1425907768e",
   "metadata": {},
   "source": [
    "<font size=\"5\">Imports</font>"
   ]
  },
  {
   "cell_type": "code",
   "execution_count": 1,
   "id": "bf7ce522-7ab9-4a1a-87fc-b7c2d3d4f4e8",
   "metadata": {},
   "outputs": [],
   "source": [
    "import pandas as pd\n",
    "\n",
    "\n"
   ]
  },
  {
   "cell_type": "markdown",
   "id": "edade8cf-182e-4a90-a4de-766ba9c9096a",
   "metadata": {},
   "source": [
    "<font size=\"5\">Bring in table NHL Stanley Cup Champions.</font>\n",
    "<br>\n",
    "<font size=\"5\">Source: Table was scraped from NHL website.</font>"
   ]
  },
  {
   "cell_type": "code",
   "execution_count": 2,
   "id": "9b159a8a-a223-43d4-8936-069ce7d98f75",
   "metadata": {},
   "outputs": [
    {
     "data": {
      "text/html": [
       "<div>\n",
       "<style scoped>\n",
       "    .dataframe tbody tr th:only-of-type {\n",
       "        vertical-align: middle;\n",
       "    }\n",
       "\n",
       "    .dataframe tbody tr th {\n",
       "        vertical-align: top;\n",
       "    }\n",
       "\n",
       "    .dataframe thead th {\n",
       "        text-align: right;\n",
       "    }\n",
       "</style>\n",
       "<table border=\"1\" class=\"dataframe\">\n",
       "  <thead>\n",
       "    <tr style=\"text-align: right;\">\n",
       "      <th></th>\n",
       "      <th>Year</th>\n",
       "      <th>Team</th>\n",
       "      <th>Coach</th>\n",
       "    </tr>\n",
       "  </thead>\n",
       "  <tbody>\n",
       "    <tr>\n",
       "      <th>0</th>\n",
       "      <td>2022</td>\n",
       "      <td>Colorado Avalanche</td>\n",
       "      <td>Coach Jared Bednar</td>\n",
       "    </tr>\n",
       "    <tr>\n",
       "      <th>1</th>\n",
       "      <td>2021</td>\n",
       "      <td>Tampa Bay Lightning</td>\n",
       "      <td>Coach Jon Cooper</td>\n",
       "    </tr>\n",
       "    <tr>\n",
       "      <th>2</th>\n",
       "      <td>2020</td>\n",
       "      <td>Tampa Bay Lightning</td>\n",
       "      <td>Coach Jon Cooper</td>\n",
       "    </tr>\n",
       "    <tr>\n",
       "      <th>3</th>\n",
       "      <td>2019</td>\n",
       "      <td>St. Louis Blues</td>\n",
       "      <td>Coach Craig Berube</td>\n",
       "    </tr>\n",
       "    <tr>\n",
       "      <th>4</th>\n",
       "      <td>2018</td>\n",
       "      <td>Washington Capitals</td>\n",
       "      <td>Coach Barry Trotz</td>\n",
       "    </tr>\n",
       "  </tbody>\n",
       "</table>\n",
       "</div>"
      ],
      "text/plain": [
       "   Year                 Team               Coach\n",
       "0  2022   Colorado Avalanche  Coach Jared Bednar\n",
       "1  2021  Tampa Bay Lightning    Coach Jon Cooper\n",
       "2  2020  Tampa Bay Lightning    Coach Jon Cooper\n",
       "3  2019      St. Louis Blues  Coach Craig Berube\n",
       "4  2018  Washington Capitals   Coach Barry Trotz"
      ]
     },
     "execution_count": 2,
     "metadata": {},
     "output_type": "execute_result"
    }
   ],
   "source": [
    "df_champs = pd.read_csv('NHL_Champions.txt')\n",
    "df_champs.head(5)"
   ]
  },
  {
   "cell_type": "markdown",
   "id": "64f6eb9b-c751-4215-bf44-bfd0cb2131f5",
   "metadata": {},
   "source": [
    "<font size=\"5\">Championship teams and the years they've won the Stanley Cup.</font>"
   ]
  },
  {
   "cell_type": "code",
   "execution_count": 3,
   "id": "7f22a988-4c6a-43d6-a96b-c20edfb7713e",
   "metadata": {
    "tags": []
   },
   "outputs": [
    {
     "data": {
      "text/html": [
       "<div>\n",
       "<style scoped>\n",
       "    .dataframe tbody tr th:only-of-type {\n",
       "        vertical-align: middle;\n",
       "    }\n",
       "\n",
       "    .dataframe tbody tr th {\n",
       "        vertical-align: top;\n",
       "    }\n",
       "\n",
       "    .dataframe thead th {\n",
       "        text-align: right;\n",
       "    }\n",
       "</style>\n",
       "<table border=\"1\" class=\"dataframe\">\n",
       "  <thead>\n",
       "    <tr style=\"text-align: right;\">\n",
       "      <th></th>\n",
       "      <th></th>\n",
       "    </tr>\n",
       "    <tr>\n",
       "      <th>Team</th>\n",
       "      <th>Year</th>\n",
       "    </tr>\n",
       "  </thead>\n",
       "  <tbody>\n",
       "    <tr>\n",
       "      <th>Anaheim Ducks</th>\n",
       "      <th>2007</th>\n",
       "    </tr>\n",
       "    <tr>\n",
       "      <th rowspan=\"6\" valign=\"top\">Boston Bruins</th>\n",
       "      <th>2011</th>\n",
       "    </tr>\n",
       "    <tr>\n",
       "      <th>1972</th>\n",
       "    </tr>\n",
       "    <tr>\n",
       "      <th>1970</th>\n",
       "    </tr>\n",
       "    <tr>\n",
       "      <th>1941</th>\n",
       "    </tr>\n",
       "    <tr>\n",
       "      <th>1939</th>\n",
       "    </tr>\n",
       "    <tr>\n",
       "      <th>1929</th>\n",
       "    </tr>\n",
       "    <tr>\n",
       "      <th>Calgary Flames</th>\n",
       "      <th>1989</th>\n",
       "    </tr>\n",
       "    <tr>\n",
       "      <th>Carolina Hurricanes</th>\n",
       "      <th>2006</th>\n",
       "    </tr>\n",
       "    <tr>\n",
       "      <th rowspan=\"3\" valign=\"top\">Chicago Black Hawks</th>\n",
       "      <th>1961</th>\n",
       "    </tr>\n",
       "    <tr>\n",
       "      <th>1938</th>\n",
       "    </tr>\n",
       "    <tr>\n",
       "      <th>1934</th>\n",
       "    </tr>\n",
       "    <tr>\n",
       "      <th rowspan=\"3\" valign=\"top\">Chicago Blackhawks</th>\n",
       "      <th>2015</th>\n",
       "    </tr>\n",
       "    <tr>\n",
       "      <th>2013</th>\n",
       "    </tr>\n",
       "    <tr>\n",
       "      <th>2010</th>\n",
       "    </tr>\n",
       "  </tbody>\n",
       "</table>\n",
       "</div>"
      ],
      "text/plain": [
       "Empty DataFrame\n",
       "Columns: []\n",
       "Index: [(Anaheim Ducks, 2007), (Boston Bruins, 2011), (Boston Bruins, 1972), (Boston Bruins, 1970), (Boston Bruins, 1941), (Boston Bruins, 1939), (Boston Bruins, 1929), (Calgary Flames, 1989), (Carolina Hurricanes, 2006), (Chicago Black Hawks, 1961), (Chicago Black Hawks, 1938), (Chicago Black Hawks, 1934), (Chicago Blackhawks, 2015), (Chicago Blackhawks, 2013), (Chicago Blackhawks, 2010)]"
      ]
     },
     "execution_count": 3,
     "metadata": {},
     "output_type": "execute_result"
    }
   ],
   "source": [
    "df_teams_years_won = df_champs[['Team', 'Year']].copy()\n",
    "df_teams_years_won = df_teams_years_won.groupby(by=['Team', 'Year']).count() # Empty Dataframe, only MultiIndex remains.\n",
    "\n",
    "# Argument sort_remaining works left to right. Therefore, need to sort in order of right to left.\n",
    "df_teams_years_won.sort_index(level=1, ascending=False, inplace=True, sort_remaining=False) # Sort the years, descending.\n",
    "df_teams_years_won.sort_index(level=0, ascending=True, inplace=True, sort_remaining=False) # Sort the team names, ascending.\n",
    "\n",
    "df_teams_years_won.head(15)"
   ]
  },
  {
   "cell_type": "code",
   "execution_count": 4,
   "id": "3dd4466b-09fb-4120-b830-fac5bfe2b1e5",
   "metadata": {},
   "outputs": [],
   "source": [
    "Championship_Years_filename = 'Championship_Teams_Years.xlsx'\n",
    "with pd.ExcelWriter(Championship_Years_filename) as writer:\n",
    "    df_teams_years_won.to_excel(writer, sheet_name='Champions Years')"
   ]
  },
  {
   "cell_type": "code",
   "execution_count": null,
   "id": "b0e22ab2-e52e-4af7-b0e1-8c0909e0bc2a",
   "metadata": {},
   "outputs": [],
   "source": []
  },
  {
   "cell_type": "markdown",
   "id": "ccf4e0bd-b5f4-4717-b0e7-4fad674f17bc",
   "metadata": {},
   "source": [
    "<font size=\"5\">Which Team has the most Stanley Cup wins?</font>"
   ]
  },
  {
   "cell_type": "code",
   "execution_count": 5,
   "id": "42ca4228-aa2a-443c-8012-86dcd781f64d",
   "metadata": {},
   "outputs": [
    {
     "data": {
      "text/html": [
       "<div>\n",
       "<style scoped>\n",
       "    .dataframe tbody tr th:only-of-type {\n",
       "        vertical-align: middle;\n",
       "    }\n",
       "\n",
       "    .dataframe tbody tr th {\n",
       "        vertical-align: top;\n",
       "    }\n",
       "\n",
       "    .dataframe thead th {\n",
       "        text-align: right;\n",
       "    }\n",
       "</style>\n",
       "<table border=\"1\" class=\"dataframe\">\n",
       "  <thead>\n",
       "    <tr style=\"text-align: right;\">\n",
       "      <th></th>\n",
       "      <th>Team</th>\n",
       "      <th>Stanley_Cup_Wins</th>\n",
       "    </tr>\n",
       "  </thead>\n",
       "  <tbody>\n",
       "    <tr>\n",
       "      <th>0</th>\n",
       "      <td>Montreal Canadiens</td>\n",
       "      <td>22</td>\n",
       "    </tr>\n",
       "    <tr>\n",
       "      <th>1</th>\n",
       "      <td>Toronto Maple Leafs</td>\n",
       "      <td>11</td>\n",
       "    </tr>\n",
       "    <tr>\n",
       "      <th>2</th>\n",
       "      <td>Detroit Red Wings</td>\n",
       "      <td>11</td>\n",
       "    </tr>\n",
       "    <tr>\n",
       "      <th>3</th>\n",
       "      <td>Boston Bruins</td>\n",
       "      <td>6</td>\n",
       "    </tr>\n",
       "    <tr>\n",
       "      <th>4</th>\n",
       "      <td>Edmonton Oilers</td>\n",
       "      <td>5</td>\n",
       "    </tr>\n",
       "    <tr>\n",
       "      <th>5</th>\n",
       "      <td>Pittsburgh Penguins</td>\n",
       "      <td>5</td>\n",
       "    </tr>\n",
       "    <tr>\n",
       "      <th>6</th>\n",
       "      <td>New York Islanders</td>\n",
       "      <td>4</td>\n",
       "    </tr>\n",
       "    <tr>\n",
       "      <th>7</th>\n",
       "      <td>New York Rangers</td>\n",
       "      <td>4</td>\n",
       "    </tr>\n",
       "    <tr>\n",
       "      <th>8</th>\n",
       "      <td>Tampa Bay Lightning</td>\n",
       "      <td>3</td>\n",
       "    </tr>\n",
       "    <tr>\n",
       "      <th>9</th>\n",
       "      <td>Chicago Black Hawks</td>\n",
       "      <td>3</td>\n",
       "    </tr>\n",
       "  </tbody>\n",
       "</table>\n",
       "</div>"
      ],
      "text/plain": [
       "                  Team  Stanley_Cup_Wins\n",
       "0   Montreal Canadiens                22\n",
       "1  Toronto Maple Leafs                11\n",
       "2    Detroit Red Wings                11\n",
       "3        Boston Bruins                 6\n",
       "4      Edmonton Oilers                 5\n",
       "5  Pittsburgh Penguins                 5\n",
       "6   New York Islanders                 4\n",
       "7     New York Rangers                 4\n",
       "8  Tampa Bay Lightning                 3\n",
       "9  Chicago Black Hawks                 3"
      ]
     },
     "execution_count": 5,
     "metadata": {},
     "output_type": "execute_result"
    }
   ],
   "source": [
    "df_champs_wins = df_champs[['Team', 'Year']].copy()\n",
    "df_champs_wins.rename(columns={'Year':'Stanley_Cup_Wins'}, inplace=True)\n",
    "df_champs_wins = df_champs_wins.groupby(by=['Team'], as_index=False).count()\n",
    "df_champs_wins.sort_values(by=['Stanley_Cup_Wins'], ascending=False, inplace=True)\n",
    "df_champs_wins.reset_index(drop=True, inplace=True)\n",
    "df_champs_wins.head(10)"
   ]
  },
  {
   "cell_type": "code",
   "execution_count": null,
   "id": "a3abd849-4015-481a-bb9a-3bf2b90f8240",
   "metadata": {},
   "outputs": [],
   "source": []
  },
  {
   "cell_type": "markdown",
   "id": "4f050b45-9f32-43e2-a3e2-de34dcc2a23c",
   "metadata": {},
   "source": [
    "<font size=\"5\">Of the current 2022 NHL teams, which team(s) have yet to win a Stanley Cup?</font>"
   ]
  },
  {
   "cell_type": "code",
   "execution_count": 6,
   "id": "b8139418-086d-4e8a-bfa6-db5b0f9f9311",
   "metadata": {},
   "outputs": [
    {
     "data": {
      "text/html": [
       "<div>\n",
       "<style scoped>\n",
       "    .dataframe tbody tr th:only-of-type {\n",
       "        vertical-align: middle;\n",
       "    }\n",
       "\n",
       "    .dataframe tbody tr th {\n",
       "        vertical-align: top;\n",
       "    }\n",
       "\n",
       "    .dataframe thead th {\n",
       "        text-align: right;\n",
       "    }\n",
       "</style>\n",
       "<table border=\"1\" class=\"dataframe\">\n",
       "  <thead>\n",
       "    <tr style=\"text-align: right;\">\n",
       "      <th></th>\n",
       "      <th>Index</th>\n",
       "      <th>NHL_Teams</th>\n",
       "    </tr>\n",
       "  </thead>\n",
       "  <tbody>\n",
       "    <tr>\n",
       "      <th>0</th>\n",
       "      <td>1</td>\n",
       "      <td>Carolina Hurricanes</td>\n",
       "    </tr>\n",
       "    <tr>\n",
       "      <th>1</th>\n",
       "      <td>2</td>\n",
       "      <td>Columbus Blue Jackets</td>\n",
       "    </tr>\n",
       "    <tr>\n",
       "      <th>2</th>\n",
       "      <td>3</td>\n",
       "      <td>New Jersey Devils</td>\n",
       "    </tr>\n",
       "    <tr>\n",
       "      <th>3</th>\n",
       "      <td>4</td>\n",
       "      <td>New York Islanders</td>\n",
       "    </tr>\n",
       "    <tr>\n",
       "      <th>4</th>\n",
       "      <td>5</td>\n",
       "      <td>New York Rangers</td>\n",
       "    </tr>\n",
       "  </tbody>\n",
       "</table>\n",
       "</div>"
      ],
      "text/plain": [
       "   Index              NHL_Teams\n",
       "0      1    Carolina Hurricanes\n",
       "1      2  Columbus Blue Jackets\n",
       "2      3      New Jersey Devils\n",
       "3      4     New York Islanders\n",
       "4      5       New York Rangers"
      ]
     },
     "execution_count": 6,
     "metadata": {},
     "output_type": "execute_result"
    }
   ],
   "source": [
    "# Need to scrape from NHL website a list of current 2022 NHL teams.\n",
    "# Updated: Scraped NHL website for a list of current 2022 NHL teams.\n",
    "df_current_teams = pd.read_csv('NHL_Teams.csv')\n",
    "df_current_teams.head(5)"
   ]
  },
  {
   "cell_type": "code",
   "execution_count": null,
   "id": "3581fb33-8d78-4dcd-af35-82818377a25a",
   "metadata": {},
   "outputs": [],
   "source": []
  },
  {
   "cell_type": "code",
   "execution_count": null,
   "id": "d20a2a90-884c-403e-90cd-c045d8500321",
   "metadata": {},
   "outputs": [],
   "source": []
  }
 ],
 "metadata": {
  "kernelspec": {
   "display_name": "Python 3 (ipykernel)",
   "language": "python",
   "name": "python3"
  },
  "language_info": {
   "codemirror_mode": {
    "name": "ipython",
    "version": 3
   },
   "file_extension": ".py",
   "mimetype": "text/x-python",
   "name": "python",
   "nbconvert_exporter": "python",
   "pygments_lexer": "ipython3",
   "version": "3.9.7"
  }
 },
 "nbformat": 4,
 "nbformat_minor": 5
}
